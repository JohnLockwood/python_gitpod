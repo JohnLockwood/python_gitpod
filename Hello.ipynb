{
 "cells": [
  {
   "cell_type": "markdown",
   "source": [
    "# Sample Notebook\n",
    "\n",
    "Just to say we could, we added a Jupyter notebook.  Not exactly rocket science up in here, but you get the idea."
   ],
   "metadata": {}
  },
  {
   "cell_type": "markdown",
   "source": [
    "If I add a cell here and save, where is that file?  Is it committed, etc?"
   ],
   "metadata": {}
  },
  {
   "cell_type": "code",
   "execution_count": 3,
   "source": [
    "msg = 'Hello world'"
   ],
   "outputs": [],
   "metadata": {}
  },
  {
   "cell_type": "code",
   "execution_count": 4,
   "source": [
    "print(msg)"
   ],
   "outputs": [
    {
     "output_type": "stream",
     "name": "stdout",
     "text": [
      "Hello world\n"
     ]
    }
   ],
   "metadata": {}
  }
 ],
 "metadata": {
  "kernelspec": {
   "name": "python3",
   "display_name": "Python 3.8.12 64-bit ('3.8.12': pyenv)"
  },
  "language_info": {
   "name": "python",
   "version": "3.8.12",
   "mimetype": "text/x-python",
   "codemirror_mode": {
    "name": "ipython",
    "version": 3
   },
   "pygments_lexer": "ipython3",
   "nbconvert_exporter": "python",
   "file_extension": ".py"
  },
  "interpreter": {
   "hash": "625c31d6b4db3d7e7e2853cc30dc2062e1cda684f3e49d5f899ae496ae755fe0"
  }
 },
 "nbformat": 4,
 "nbformat_minor": 5
}